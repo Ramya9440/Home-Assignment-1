{
  "nbformat": 4,
  "nbformat_minor": 0,
  "metadata": {
    "colab": {
      "provenance": []
    },
    "kernelspec": {
      "name": "python3",
      "display_name": "Python 3"
    },
    "language_info": {
      "name": "python"
    }
  },
  "cells": [
    {
      "cell_type": "code",
      "execution_count": 1,
      "metadata": {
        "colab": {
          "base_uri": "https://localhost:8080/"
        },
        "id": "4L7Ze36PQ6SY",
        "outputId": "7e193b88-d0ed-40aa-9976-a6a43fdacac7"
      },
      "outputs": [
        {
          "output_type": "stream",
          "name": "stdout",
          "text": [
            "Original Tensor:\n",
            " tf.Tensor(\n",
            "[[0.39514172 0.74855673 0.7553358  0.04649496 0.5844345  0.13488686]\n",
            " [0.23773539 0.05791748 0.33782768 0.6605997  0.84677005 0.15990257]\n",
            " [0.35233867 0.65195274 0.47955477 0.7033341  0.74380064 0.08119154]\n",
            " [0.40472567 0.9239321  0.37309515 0.03214657 0.3324505  0.93687654]], shape=(4, 6), dtype=float32)\n",
            "\n",
            "Rank of original tensor: 2\n",
            "Shape of original tensor: [4 6]\n",
            "\n",
            "Reshaped Tensor (2, 3, 4):\n",
            " tf.Tensor(\n",
            "[[[0.39514172 0.74855673 0.7553358  0.04649496]\n",
            "  [0.5844345  0.13488686 0.23773539 0.05791748]\n",
            "  [0.33782768 0.6605997  0.84677005 0.15990257]]\n",
            "\n",
            " [[0.35233867 0.65195274 0.47955477 0.7033341 ]\n",
            "  [0.74380064 0.08119154 0.40472567 0.9239321 ]\n",
            "  [0.37309515 0.03214657 0.3324505  0.93687654]]], shape=(2, 3, 4), dtype=float32)\n",
            "\n",
            "Transposed Tensor (3, 2, 4):\n",
            " tf.Tensor(\n",
            "[[[0.39514172 0.74855673 0.7553358  0.04649496]\n",
            "  [0.35233867 0.65195274 0.47955477 0.7033341 ]]\n",
            "\n",
            " [[0.5844345  0.13488686 0.23773539 0.05791748]\n",
            "  [0.74380064 0.08119154 0.40472567 0.9239321 ]]\n",
            "\n",
            " [[0.33782768 0.6605997  0.84677005 0.15990257]\n",
            "  [0.37309515 0.03214657 0.3324505  0.93687654]]], shape=(3, 2, 4), dtype=float32)\n",
            "Shape after transpose: (3, 2, 4)\n",
            "\n",
            "Result after broadcasting and addition:\n",
            " tf.Tensor(\n",
            "[[[1.3951417 2.7485566 3.7553358 4.046495 ]\n",
            "  [1.3523387 2.6519527 3.4795547 4.703334 ]]\n",
            "\n",
            " [[1.5844345 2.1348867 3.2377353 4.0579176]\n",
            "  [1.7438006 2.0811915 3.4047256 4.923932 ]]\n",
            "\n",
            " [[1.3378277 2.6605997 3.84677   4.1599026]\n",
            "  [1.3730952 2.0321465 3.3324504 4.9368763]]], shape=(3, 2, 4), dtype=float32)\n",
            "Shape after broadcasting and addition: (3, 2, 4)\n",
            "\n",
            "Broadcasting Explanation:\n",
            "In TensorFlow, broadcasting automatically expands the dimensions of the smaller tensor\n",
            "so it can be added to the larger tensor. Here:\n",
            "- transposed_tensor shape: (3, 2, 4)\n",
            "- small_tensor shape: (1, 4) → treated as (1, 1, 4)\n",
            "- It is broadcast across dimensions 0 and 1 to match (3, 2, 4)\n",
            "\n"
          ]
        }
      ],
      "source": [
        "import tensorflow as tf\n",
        "\n",
        "# Step 1: Create a random tensor of shape (4, 6)\n",
        "tensor = tf.random.uniform(shape=(4, 6))\n",
        "print(\"Original Tensor:\\n\", tensor)\n",
        "\n",
        "# Step 2: Get rank and shape\n",
        "rank = tf.rank(tensor)\n",
        "shape = tf.shape(tensor)\n",
        "print(\"\\nRank of original tensor:\", rank.numpy())\n",
        "print(\"Shape of original tensor:\", shape.numpy())\n",
        "\n",
        "# Step 3: Reshape into (2, 3, 4) and transpose to (3, 2, 4)\n",
        "reshaped_tensor = tf.reshape(tensor, (2, 3, 4))\n",
        "print(\"\\nReshaped Tensor (2, 3, 4):\\n\", reshaped_tensor)\n",
        "\n",
        "transposed_tensor = tf.transpose(reshaped_tensor, perm=[1, 0, 2])\n",
        "print(\"\\nTransposed Tensor (3, 2, 4):\\n\", transposed_tensor)\n",
        "print(\"Shape after transpose:\", transposed_tensor.shape)\n",
        "\n",
        "# Step 4: Broadcast a smaller tensor (1, 4) to match the larger tensor and add\n",
        "small_tensor = tf.constant([[1.0, 2.0, 3.0, 4.0]])  # Shape (1, 4)\n",
        "broadcasted_result = transposed_tensor + small_tensor  # Broadcasting happens here\n",
        "print(\"\\nResult after broadcasting and addition:\\n\", broadcasted_result)\n",
        "print(\"Shape after broadcasting and addition:\", broadcasted_result.shape)\n",
        "\n",
        "# Step 5: Explain broadcasting\n",
        "print(\"\\nBroadcasting Explanation:\")\n",
        "print(\"\"\"In TensorFlow, broadcasting automatically expands the dimensions of the smaller tensor\n",
        "so it can be added to the larger tensor. Here:\n",
        "- transposed_tensor shape: (3, 2, 4)\n",
        "- small_tensor shape: (1, 4) → treated as (1, 1, 4)\n",
        "- It is broadcast across dimensions 0 and 1 to match (3, 2, 4)\n",
        "\"\"\")\n"
      ]
    },
    {
      "cell_type": "code",
      "source": [
        "import tensorflow as tf\n",
        "import numpy as np\n",
        "import matplotlib.pyplot as plt\n",
        "\n",
        "# Step 1: Define true values (y_true) and predictions (y_pred)\n",
        "y_true = tf.constant([[0, 1, 0]], dtype=tf.float32)  # One-hot true class\n",
        "y_pred_1 = tf.constant([[0.1, 0.8, 0.1]], dtype=tf.float32)  # Good prediction\n",
        "y_pred_2 = tf.constant([[0.2, 0.5, 0.3]], dtype=tf.float32)  # Slightly worse prediction\n",
        "\n",
        "# Step 2: Compute MSE and CCE losses\n",
        "mse = tf.keras.losses.MeanSquaredError()\n",
        "cce = tf.keras.losses.CategoricalCrossentropy()\n",
        "\n",
        "losses = {\n",
        "    \"MSE_1\": mse(y_true, y_pred_1).numpy(),\n",
        "    \"CCE_1\": cce(y_true, y_pred_1).numpy(),\n",
        "    \"MSE_2\": mse(y_true, y_pred_2).numpy(),\n",
        "    \"CCE_2\": cce(y_true, y_pred_2).numpy()\n",
        "}\n",
        "\n",
        "# Print loss values\n",
        "print(\"Losses with Prediction 1 (Better):\")\n",
        "print(\"MSE:\", losses[\"MSE_1\"])\n",
        "print(\"CCE:\", losses[\"CCE_1\"])\n",
        "\n",
        "print(\"\\nLosses with Prediction 2 (Worse):\")\n",
        "print(\"MSE:\", losses[\"MSE_2\"])\n",
        "print(\"CCE:\", losses[\"CCE_2\"])\n",
        "\n",
        "# Step 4: Plotting the loss values\n",
        "labels = ['MSE_1', 'CCE_1', 'MSE_2', 'CCE_2']\n",
        "values = [losses[k] for k in labels]\n",
        "\n",
        "plt.figure(figsize=(8, 5))\n",
        "bars = plt.bar(labels, values, color=['skyblue', 'orange', 'skyblue', 'orange'])\n",
        "plt.title(\"Comparison of MSE and Categorical Cross-Entropy\")\n",
        "plt.ylabel(\"Loss Value\")\n",
        "\n",
        "# Annotate bars with values\n",
        "for bar in bars:\n",
        "    yval = bar.get_height()\n",
        "    plt.text(bar.get_x() + bar.get_width()/2.0, yval + 0.005, f\"{yval:.4f}\", ha='center', va='bottom')\n",
        "\n",
        "plt.tight_layout()\n",
        "plt.show()\n"
      ],
      "metadata": {
        "colab": {
          "base_uri": "https://localhost:8080/",
          "height": 628
        },
        "id": "g5UYV4YhTAeA",
        "outputId": "8a9f2d50-c886-4a9e-9808-95dab0ff5199"
      },
      "execution_count": 2,
      "outputs": [
        {
          "output_type": "stream",
          "name": "stdout",
          "text": [
            "Losses with Prediction 1 (Better):\n",
            "MSE: 0.02\n",
            "CCE: 0.22314353\n",
            "\n",
            "Losses with Prediction 2 (Worse):\n",
            "MSE: 0.12666667\n",
            "CCE: 0.6931472\n"
          ]
        },
        {
          "output_type": "display_data",
          "data": {
            "text/plain": [
              "<Figure size 800x500 with 1 Axes>"
            ],
            "image/png": "[encoded data removed]"
          },
          "metadata": {}
        }
      ]
    },
    {
      "cell_type": "code",
      "source": [
        "import tensorflow as tf\n",
        "from tensorflow.keras import layers, models\n",
        "import datetime\n",
        "\n",
        "# Step 1: Load and preprocess the MNIST dataset\n",
        "mnist = tf.keras.datasets.mnist\n",
        "(x_train, y_train), (x_val, y_val) = mnist.load_data()\n",
        "\n",
        "# Normalize pixel values to [0, 1] and reshape\n",
        "x_train = x_train / 255.0\n",
        "x_val = x_val / 255.0\n",
        "\n",
        "# Step 2: Build a simple neural network model\n",
        "model = models.Sequential([\n",
        "    layers.Flatten(input_shape=(28, 28)),\n",
        "    layers.Dense(128, activation='relu'),\n",
        "    layers.Dense(10, activation='softmax')\n",
        "])\n",
        "\n",
        "model.compile(optimizer='adam',\n",
        "              loss='sparse_categorical_crossentropy',\n",
        "              metrics=['accuracy'])\n",
        "\n",
        "# Step 3: Setup TensorBoard logging\n",
        "log_dir = \"logs/fit/\" + datetime.datetime.now().strftime(\"%Y%m%d-%H%M%S\")\n",
        "tensorboard_callback = tf.keras.callbacks.TensorBoard(log_dir=log_dir, histogram_freq=1)\n",
        "\n",
        "# Train the model\n",
        "model.fit(x_train, y_train,\n",
        "          epochs=5,\n",
        "          validation_data=(x_val, y_val),\n",
        "          callbacks=[tensorboard_callback])\n"
      ],
      "metadata": {
        "colab": {
          "base_uri": "https://localhost:8080/"
        },
        "id": "F-fNjZ5TTqDW",
        "outputId": "f7cafb38-bc7a-43da-96bf-7994899aa6c6"
      },
      "execution_count": 3,
      "outputs": [
        {
          "output_type": "stream",
          "name": "stdout",
          "text": [
            "Downloading data from https://storage.googleapis.com/tensorflow/tf-keras-datasets/mnist.npz\n",
            "\u001b[1m11490434/11490434\u001b[0m \u001b[32m━━━━━━━━━━━━━━━━━━━━\u001b[0m\u001b[37m\u001b[0m \u001b[1m0s\u001b[0m 0us/step\n"
          ]
        },
        {
          "output_type": "stream",
          "name": "stderr",
          "text": [
            "/usr/local/lib/python3.11/dist-packages/keras/src/layers/reshaping/flatten.py:37: UserWarning: Do not pass an `input_shape`/`input_dim` argument to a layer. When using Sequential models, prefer using an `Input(shape)` object as the first layer in the model instead.\n",
            "  super().__init__(**kwargs)\n"
          ]
        },
        {
          "output_type": "stream",
          "name": "stdout",
          "text": [
            "Epoch 1/5\n",
            "\u001b[1m1875/1875\u001b[0m \u001b[32m━━━━━━━━━━━━━━━━━━━━\u001b[0m\u001b[37m\u001b[0m \u001b[1m14s\u001b[0m 6ms/step - accuracy: 0.8761 - loss: 0.4424 - val_accuracy: 0.9593 - val_loss: 0.1350\n",
            "Epoch 2/5\n",
            "\u001b[1m1875/1875\u001b[0m \u001b[32m━━━━━━━━━━━━━━━━━━━━\u001b[0m\u001b[37m\u001b[0m \u001b[1m12s\u001b[0m 6ms/step - accuracy: 0.9650 - loss: 0.1184 - val_accuracy: 0.9720 - val_loss: 0.0944\n",
            "Epoch 3/5\n",
            "\u001b[1m1875/1875\u001b[0m \u001b[32m━━━━━━━━━━━━━━━━━━━━\u001b[0m\u001b[37m\u001b[0m \u001b[1m19s\u001b[0m 5ms/step - accuracy: 0.9776 - loss: 0.0746 - val_accuracy: 0.9731 - val_loss: 0.0859\n",
            "Epoch 4/5\n",
            "\u001b[1m1875/1875\u001b[0m \u001b[32m━━━━━━━━━━━━━━━━━━━━\u001b[0m\u001b[37m\u001b[0m \u001b[1m9s\u001b[0m 5ms/step - accuracy: 0.9833 - loss: 0.0559 - val_accuracy: 0.9756 - val_loss: 0.0788\n",
            "Epoch 5/5\n",
            "\u001b[1m1875/1875\u001b[0m \u001b[32m━━━━━━━━━━━━━━━━━━━━\u001b[0m\u001b[37m\u001b[0m \u001b[1m10s\u001b[0m 5ms/step - accuracy: 0.9870 - loss: 0.0419 - val_accuracy: 0.9770 - val_loss: 0.0739\n"
          ]
        },
        {
          "output_type": "execute_result",
          "data": {
            "text/plain": [
              "<keras.src.callbacks.history.History at 0x7c857c501c90>"
            ]
          },
          "metadata": {},
          "execution_count": 3
        }
      ]
    },
    {
      "cell_type": "code",
      "source": [
        "from google.colab import drive\n",
        "drive.mount('/content/drive')"
      ],
      "metadata": {
        "id": "XYv5FuhdWu-E"
      },
      "execution_count": null,
      "outputs": []
    }
  ]
}